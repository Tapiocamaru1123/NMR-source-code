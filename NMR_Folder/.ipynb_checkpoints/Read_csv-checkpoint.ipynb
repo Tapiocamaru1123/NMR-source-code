{
 "cells": [
  {
   "cell_type": "code",
   "execution_count": 4,
   "id": "2caaa372",
   "metadata": {},
   "outputs": [],
   "source": [
    "#　SparkyのlistファイルをCSVファイルに変換するコード"
   ]
  },
  {
   "cell_type": "code",
   "execution_count": 8,
   "id": "608ebb4d",
   "metadata": {},
   "outputs": [],
   "source": [
    "# ライブラリの読み込み\n",
    "import numpy as np\n",
    "import pandas as pd\n",
    "import matplotlib\n",
    "import csv\n",
    "import os\n",
    "from pandas import Series, DataFrame\n",
    "import numpy.random as random"
   ]
  },
  {
   "cell_type": "code",
   "execution_count": 4,
   "id": "aac03347",
   "metadata": {},
   "outputs": [
    {
     "name": "stdout",
     "output_type": "stream",
     "text": [
      "'C:\\Users\\mrtak\\JupyterNotebook\\NMR_Folder\\list_folder\\hsqc_GDP.list' を 'C:\\Users\\mrtak\\JupyterNotebook\\NMR_Folder\\CSV_folder\\hsqc_GDP.csv' に正常に変換しました。\n"
     ]
    }
   ],
   "source": [
    "# listファイルの読み込み\n",
    "# CSVファイルへの変換\n",
    "def convert_list_to_csv(input_filepath, output_directory=None):\n",
    "    \"\"\"\n",
    "    .listファイルを読み込み、CSVファイルとして保存します。\n",
    "    このバージョンは、複数のスペースで区切られたデータに対応しています。\n",
    "        input_filepath (str): 変換したい.listファイルのパス。\n",
    "        output_directory (str, optional): CSVファイルを保存するディレクトリのパス。指定しない場合は、入力ファイルと同じディレクトリに保存されます。\n",
    "    \"\"\"\n",
    "    # 出力ファイルパスの決定\n",
    "    if output_directory:\n",
    "        os.makedirs(output_directory, exist_ok=True)\n",
    "        filename_without_ext = os.path.splitext(os.path.basename(input_filepath))[0]\n",
    "        output_filepath = os.path.join(output_directory, f\"{filename_without_ext}.csv\")\n",
    "    else:\n",
    "        output_filepath = os.path.splitext(input_filepath)[0] + \".csv\"\n",
    "\n",
    "    try:\n",
    "        with open(input_filepath, 'r', encoding='utf-8') as infile:\n",
    "            with open(output_filepath, 'w', newline='', encoding='utf-8') as outfile:\n",
    "                csv_writer = csv.writer(outfile)\n",
    "\n",
    "                header_written = False\n",
    "                for line in infile:\n",
    "                    # 行末の改行文字を削除し、複数のスペースで分割\n",
    "                    # split() 引数なしの場合、任意の空白文字（スペース、タブ、改行）で分割し、\n",
    "                    # 空の要素は自動的に除去されるため、連続するスペースに対応できます。\n",
    "                    parts = line.strip().split()\n",
    "\n",
    "                    if not parts:  # 空行をスキップ\n",
    "                        continue\n",
    "\n",
    "                    if not header_written:\n",
    "                        # 最初の有効な行をヘッダーとして書き込む\n",
    "                        csv_writer.writerow(parts)\n",
    "                        header_written = True\n",
    "                    else:\n",
    "                        # データを書き込む\n",
    "                        csv_writer.writerow(parts)\n",
    "\n",
    "        print(f\"'{input_filepath}' を '{output_filepath}' に正常に変換しました。\")\n",
    "\n",
    "    except FileNotFoundError:\n",
    "        print(f\"エラー: ファイル '{input_filepath}' が見つかりません。\")\n",
    "    except Exception as e:\n",
    "        print(f\"変換中にエラーが発生しました: {e}\")\n",
    "\n",
    "# --- 使用例 ---\n",
    "if __name__ == \"__main__\":\n",
    "    # 画像のファイル名 \"hsqc_GDPC.list\" に合わせています。\n",
    "    # 実際のファイルのパスに置き換えてください。\n",
    "    list_file_path = r\"C:\\Users\\mrtak\\JupyterNotebook\\NMR_Folder\\list_folder\\hsqc_GDP.list\"\n",
    "\n",
    "    # 出力先を元のディレクトリと同じにする場合\n",
    "    #convert_list_to_csv(list_file_path)\n",
    "\n",
    "    # 出力先を特定のフォルダにする場合 (例: \"Converted_CSV\" サブフォルダ)\n",
    "    output_folder = r\"C:\\Users\\mrtak\\JupyterNotebook\\NMR_Folder\\CSV_folder\"\n",
    "    convert_list_to_csv(list_file_path, output_directory=output_folder)"
   ]
  },
  {
   "cell_type": "code",
   "execution_count": 5,
   "id": "b3f14513",
   "metadata": {},
   "outputs": [],
   "source": [
    "# データの整理"
   ]
  },
  {
   "cell_type": "code",
   "execution_count": 16,
   "id": "4c389e5c",
   "metadata": {
    "scrolled": true
   },
   "outputs": [
    {
     "data": {
      "text/html": [
       "<div>\n",
       "<style scoped>\n",
       "    .dataframe tbody tr th:only-of-type {\n",
       "        vertical-align: middle;\n",
       "    }\n",
       "\n",
       "    .dataframe tbody tr th {\n",
       "        vertical-align: top;\n",
       "    }\n",
       "\n",
       "    .dataframe thead th {\n",
       "        text-align: right;\n",
       "    }\n",
       "</style>\n",
       "<table border=\"1\" class=\"dataframe\">\n",
       "  <thead>\n",
       "    <tr style=\"text-align: right;\">\n",
       "      <th></th>\n",
       "      <th>Assignment</th>\n",
       "      <th>w1</th>\n",
       "      <th>w2</th>\n",
       "    </tr>\n",
       "  </thead>\n",
       "  <tbody>\n",
       "    <tr>\n",
       "      <th>0</th>\n",
       "      <td>?-?</td>\n",
       "      <td>118.852</td>\n",
       "      <td>8.431</td>\n",
       "    </tr>\n",
       "    <tr>\n",
       "      <th>1</th>\n",
       "      <td>?-?</td>\n",
       "      <td>113.201</td>\n",
       "      <td>6.901</td>\n",
       "    </tr>\n",
       "    <tr>\n",
       "      <th>2</th>\n",
       "      <td>?-?</td>\n",
       "      <td>112.715</td>\n",
       "      <td>7.643</td>\n",
       "    </tr>\n",
       "    <tr>\n",
       "      <th>3</th>\n",
       "      <td>?-?</td>\n",
       "      <td>112.715</td>\n",
       "      <td>6.918</td>\n",
       "    </tr>\n",
       "    <tr>\n",
       "      <th>4</th>\n",
       "      <td>?-?</td>\n",
       "      <td>112.687</td>\n",
       "      <td>7.920</td>\n",
       "    </tr>\n",
       "  </tbody>\n",
       "</table>\n",
       "</div>"
      ],
      "text/plain": [
       "  Assignment       w1     w2\n",
       "0        ?-?  118.852  8.431\n",
       "1        ?-?  113.201  6.901\n",
       "2        ?-?  112.715  7.643\n",
       "3        ?-?  112.715  6.918\n",
       "4        ?-?  112.687  7.920"
      ]
     },
     "execution_count": 16,
     "metadata": {},
     "output_type": "execute_result"
    }
   ],
   "source": [
    "# CSVファイル名とパスを指定します\n",
    "# 例えば、同じディレクトリにある 'your_file.csv' を読み込む場合\n",
    "file_path = r\"C:\\Users\\mrtak\\JupyterNotebook\\NMR_Folder\\CSV_folder\\hsqc_GDP.csv\"\n",
    "\n",
    "# CSVファイルをDataFrameとして読み込みます\n",
    "df = pd.read_csv(file_path)\n",
    "\n",
    "# 読み込んだデータの最初の5行を表示して確認\n",
    "df.head()"
   ]
  },
  {
   "cell_type": "code",
   "execution_count": 23,
   "id": "05436438",
   "metadata": {},
   "outputs": [
    {
     "name": "stdout",
     "output_type": "stream",
     "text": [
      "--- 欠損値として認識後のデータフレームの最初の数行 ---\n",
      "  Assignment       w1     w2\n",
      "0        NaN  118.852  8.431\n",
      "1        NaN  113.201  6.901\n",
      "2        NaN  112.715  7.643\n",
      "3        NaN  112.715  6.918\n",
      "4        NaN  112.687  7.920\n",
      "\n",
      "--- 欠損値の数（削除前） ---\n",
      "Assignment    43\n",
      "w1             0\n",
      "w2             0\n",
      "dtype: int64\n",
      "\n",
      "--- 欠損値を含む行削除後のデータフレームの最初の数行 ---\n",
      "   Assignment       w1     w2\n",
      "43      T2N-H  121.863  8.508\n",
      "44      E3N-H  126.537  8.297\n",
      "45      Y4N-H  121.474  8.742\n",
      "46      K5N-H  124.199  9.145\n",
      "47      L6N-H  126.565  9.565\n",
      "\n",
      "元の行数: 205\n",
      "削除後の行数: 162\n"
     ]
    },
    {
     "name": "stderr",
     "output_type": "stream",
     "text": [
      "C:\\Users\\mrtak\\AppData\\Local\\Temp\\ipykernel_3420\\3919864049.py:42: FutureWarning: data_manager option is deprecated and will be removed in a future version. Only the BlockManager will be available.\n",
      "  pd.reset_option('all')\n",
      "C:\\Users\\mrtak\\AppData\\Local\\Temp\\ipykernel_3420\\3919864049.py:42: FutureWarning: use_inf_as_na option is deprecated and will be removed in a future version. Convert inf values to NaN before operating instead.\n",
      "  pd.reset_option('all')\n"
     ]
    }
   ],
   "source": [
    "# 全ての行を表示するオプションを一時的に設定 (確認のため)\n",
    "pd.set_option('display.max_rows', None)\n",
    "pd.set_option('display.max_columns', None)\n",
    "\n",
    "try:\n",
    "    # 1. CSVを読み込む際に、'?-?' を欠損値 (NaN) として認識させる\n",
    "    # 'Assignment' 列と 'Value' 列の両方に '?-?' が入っている可能性があるため、\n",
    "    # na_values にリストで指定すると、DataFrame全体でその文字列をNaNとして扱います。\n",
    "    # 特定の列のみ指定したい場合は、{'列名1': ['?-?'], '列名2': ['?-?']} のように辞書で渡します。\n",
    "    df = pd.read_csv(file_path, encoding='utf-8', na_values=['?-?'])\n",
    "\n",
    "    print(\"--- 欠損値として認識後のデータフレームの最初の数行 ---\")\n",
    "    \n",
    "    print(df.head())\n",
    "    \n",
    "    # ここで Assignment 列や Value 列の '?-?' が NaN になっていることを確認できます\n",
    "\n",
    "    # 欠損値（NaN）の数を確認する (削除前)\n",
    "    print(\"\\n--- 欠損値の数（削除前） ---\")\n",
    "    print(df.isnull().sum())\n",
    "\n",
    "    # 2. 欠損値を含む行を削除する\n",
    "    # how='any' は、いずれか1つでもNaNがあればその行を削除します。\n",
    "    # how='all' は、全ての列がNaNの場合のみ行を削除します。\n",
    "    # 今回は '?-?' が入った行全体を削除したいので、'any' が適切です。\n",
    "    \n",
    "    df_cleaned = df.dropna(how='any')\n",
    "\n",
    "    print(\"\\n--- 欠損値を含む行削除後のデータフレームの最初の数行 ---\")\n",
    "    \n",
    "    print(df_cleaned.head())\n",
    "\n",
    "    print(f\"\\n元の行数: {len(df)}\")\n",
    "    print(f\"削除後の行数: {len(df_cleaned)}\")\n",
    "\n",
    "except FileNotFoundError:\n",
    "    print(f\"エラー: ファイル '{file_path}' が見つかりません。パスを確認してください。\")\n",
    "except Exception as e:\n",
    "    print(f\"ファイルの読み込みまたは処理中にエラーが発生しました: {e}\")\n",
    "\n",
    "# オプションをデフォルトに戻す (必要であれば)\n",
    "pd.reset_option('all')"
   ]
  },
  {
   "cell_type": "code",
   "execution_count": 25,
   "id": "1ba5fb63",
   "metadata": {},
   "outputs": [
    {
     "name": "stdout",
     "output_type": "stream",
     "text": [
      "データフレームが 'C:\\Users\\mrtak\\JupyterNotebook\\NMR_Folder\\arrange_CSV_folder\\cleaned_data.csv' に正常に保存されました。\n"
     ]
    }
   ],
   "source": [
    "# df_cleaned = df.dropna(...) など、df_cleaned が生成されていると仮定\n",
    "\n",
    "# 保存したいファイル名とパスを指定\n",
    "# Jupyter Notebookと同じディレクトリに保存する場合\n",
    "# output_file_path = 'cleaned_data.csv'\n",
    "\n",
    "# 特定のフォルダに保存したい場合（例: outputフォルダ）\n",
    "output_folder = r\"C:\\Users\\mrtak\\JupyterNotebook\\NMR_Folder\\arrange_CSV_folder\"\n",
    "# import os\n",
    "os.makedirs(output_folder, exist_ok=True) # フォルダが存在しない場合は作成\n",
    "output_file_path = os.path.join(output_folder, 'cleaned_data.csv')\n",
    "\n",
    "\n",
    "# データフレームをCSVファイルに保存\n",
    "# index=False は、DataFrameのインデックス（左端の数字）をCSVに書き込まないようにするオプションです。\n",
    "# 通常は不要なので False に設定します。\n",
    "df_cleaned.to_csv(output_file_path, index=False)\n",
    "\n",
    "print(f\"データフレームが '{output_file_path}' に正常に保存されました。\")"
   ]
  },
  {
   "cell_type": "code",
   "execution_count": null,
   "id": "c413cdac",
   "metadata": {},
   "outputs": [],
   "source": []
  }
 ],
 "metadata": {
  "kernelspec": {
   "display_name": "Python 3 (ipykernel)",
   "language": "python",
   "name": "python3"
  },
  "language_info": {
   "codemirror_mode": {
    "name": "ipython",
    "version": 3
   },
   "file_extension": ".py",
   "mimetype": "text/x-python",
   "name": "python",
   "nbconvert_exporter": "python",
   "pygments_lexer": "ipython3",
   "version": "3.13.5"
  }
 },
 "nbformat": 4,
 "nbformat_minor": 5
}
