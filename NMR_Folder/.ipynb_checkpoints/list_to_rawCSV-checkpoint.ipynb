{
 "cells": [
  {
   "cell_type": "code",
   "execution_count": 1,
   "id": "94c185d1",
   "metadata": {},
   "outputs": [],
   "source": [
    "#　SparkyのlistファイルをCSVファイルに変換するコード\n",
    "#　現状対応できているのは、一行目がAssinment, w1, w2, Data Heightという列順。これよりも要素が多くなった場合はどうなるのか想定されていない"
   ]
  },
  {
   "cell_type": "code",
   "execution_count": 2,
   "id": "33ace55d",
   "metadata": {},
   "outputs": [],
   "source": [
    "# ライブラリの読み込み\n",
    "import pandas as pd\n",
    "import os\n",
    "import tkinter as tk\n",
    "from tkinter import filedialog"
   ]
  },
  {
   "cell_type": "code",
   "execution_count": 3,
   "id": "7ba2a06e",
   "metadata": {},
   "outputs": [],
   "source": [
    "def convert_list_to_csv(input_dir, output_dir=None):\n",
    "    \"\"\"\n",
    "    指定されたディレクトリ内の拡張子が '.list' のファイルを読み込み、CSV形式に変換して保存します。\n",
    "\n",
    "    Args:\n",
    "        input_dir (str): '.list' 形式のファイルが格納されているディレクトリのパス。\n",
    "        output_dir (str, optional): 変換されたCSVファイルを保存するディレクトリのパス。\n",
    "                                    Noneの場合、入力ディレクトリと同じ場所に保存されます。\n",
    "    \"\"\"\n",
    "    if not os.path.exists(input_dir):\n",
    "        print(f\"エラー: 指定された入力ディレクトリ '{input_dir}' が存在しません。\")\n",
    "        return\n",
    "\n",
    "    if output_dir and not os.path.exists(output_dir):\n",
    "        print(f\"出力ディレクトリ '{output_dir}' が存在しないため、作成します。\")\n",
    "        os.makedirs(output_dir)\n",
    "    elif output_dir is None:\n",
    "        output_dir = input_dir # 出力ディレクトリが指定されていない場合は入力ディレクトリと同じにする\n",
    "\n",
    "    print(f\"入力ディレクトリ: {input_dir}\")\n",
    "    print(f\"出力ディレクトリ: {output_dir}\")\n",
    "\n",
    "    # ディレクトリ内のすべてのファイルを検索\n",
    "    for filename in os.listdir(input_dir):\n",
    "        # 拡張子が '.list' のファイルを対象とする\n",
    "        if filename.endswith('.list'):\n",
    "            input_filepath = os.path.join(input_dir, filename)\n",
    "            \n",
    "            print(f\"\\nファイルを処理中: {input_filepath}\")\n",
    "\n",
    "            try:\n",
    "                # --- 修正部分 ---\n",
    "                # 1. ヘッダー行を個別に読み込む\n",
    "                with open(input_filepath, 'r', encoding='utf-8') as f: # エンコーディングを指定\n",
    "                    header_line = f.readline().strip()\n",
    "                \n",
    "                # ヘッダーをスペースで分割し、'Data Height' を結合し直す\n",
    "                header_parts = header_line.split()\n",
    "                column_names = []\n",
    "                i = 0\n",
    "                while i < len(header_parts):\n",
    "                    if header_parts[i] == 'Data' and i + 1 < len(header_parts) and header_parts[i+1] == 'Height':\n",
    "                        column_names.append('Data Height')\n",
    "                        i += 2 # 'Data' と 'Height' の2つ分進める\n",
    "                    else:\n",
    "                        column_names.append(header_parts[i])\n",
    "                        i += 1\n",
    "\n",
    "                # 2. データ部分を読み込む (ヘッダー行をスキップ)\n",
    "                # データ部分の各列はスペースで区切られているので、delim_whitespace=True を使用\n",
    "                df = pd.read_csv(input_filepath, delim_whitespace=True, header=None, skiprows=1, encoding='utf-8')\n",
    "\n",
    "                # 3. 読み込んだDataFrameに正しいカラム名を割り当てる\n",
    "                if len(column_names) == df.shape[1]:\n",
    "                    df.columns = column_names\n",
    "                    print(f\"カラム名を {column_names} に設定しました。\")\n",
    "                else:\n",
    "                    print(f\"警告: ファイル '{filename}' のデータ列数 ({df.shape[1]}) と\")\n",
    "                    print(f\"       解析されたヘッダー列数 ({len(column_names)}) が一致しません。\")\n",
    "                    print(\"       デフォルトの数値カラム名が使用されます。\")\n",
    "                    # 必要に応じて、ここでエラーを発生させるか、別のカラム名を割り当ててください\n",
    "                    # 例: raise ValueError(\"列数が一致しません\")\n",
    "                # --- 修正部分ここまで ---\n",
    "\n",
    "                # 出力ファイル名を作成（元のファイル名から .list 拡張子を除き、.csv を追加）\n",
    "                base_filename = os.path.splitext(filename)[0] # 拡張子を除いたファイル名を取得\n",
    "                output_filename = base_filename + \"_raw.csv\"\n",
    "                output_filepath = os.path.join(output_dir, output_filename)\n",
    "\n",
    "                # CSVファイルとして保存\n",
    "                df.to_csv(output_filepath, index=False)\n",
    "                print(f\"'{filename}' を '{output_filepath}' にCSVとして保存しました。\")\n",
    "\n",
    "            except Exception as e:\n",
    "                print(f\"ファイルの処理中にエラーが発生しました '{filename}': {e}\")\n",
    "        else:\n",
    "            print(f\"スキップ: '{filename}' (拡張子が .list ではありません)\")"
   ]
  },
  {
   "cell_type": "code",
   "execution_count": 4,
   "id": "cd58eea3",
   "metadata": {},
   "outputs": [
    {
     "name": "stdout",
     "output_type": "stream",
     "text": [
      "入力ディレクトリ: C:/Users/mrtak/JupyterNotebook/NMR_Folder/list_folder\n",
      "出力ディレクトリ: C:/Users/mrtak/JupyterNotebook/NMR_Folder/CSV_folder\n",
      "\n",
      "ファイルを処理中: C:/Users/mrtak/JupyterNotebook/NMR_Folder/list_folder\\hsqc_GDP.list\n",
      "カラム名を ['Assignment', 'w1', 'w2'] に設定しました。\n",
      "'hsqc_GDP.list' を 'C:/Users/mrtak/JupyterNotebook/NMR_Folder/CSV_folder\\hsqc_GDP_raw.csv' にCSVとして保存しました。\n",
      "\n",
      "ファイルを処理中: C:/Users/mrtak/JupyterNotebook/NMR_Folder/list_folder\\hsqc_GDP_Data_height.list\n",
      "カラム名を ['Assignment', 'w1', 'w2', 'Data Height'] に設定しました。\n",
      "'hsqc_GDP_Data_height.list' を 'C:/Users/mrtak/JupyterNotebook/NMR_Folder/CSV_folder\\hsqc_GDP_Data_height_raw.csv' にCSVとして保存しました。\n",
      "\n",
      "ファイルを処理中: C:/Users/mrtak/JupyterNotebook/NMR_Folder/list_folder\\hsqc_M.list\n",
      "カラム名を ['Assignment', 'w1', 'w2'] に設定しました。\n",
      "'hsqc_M.list' を 'C:/Users/mrtak/JupyterNotebook/NMR_Folder/CSV_folder\\hsqc_M_raw.csv' にCSVとして保存しました。\n",
      "\n",
      "ファイルを処理中: C:/Users/mrtak/JupyterNotebook/NMR_Folder/list_folder\\hsqc_M_Data_height.list\n",
      "カラム名を ['Assignment', 'w1', 'w2', 'Data Height'] に設定しました。\n",
      "'hsqc_M_Data_height.list' を 'C:/Users/mrtak/JupyterNotebook/NMR_Folder/CSV_folder\\hsqc_M_Data_height_raw.csv' にCSVとして保存しました。\n"
     ]
    },
    {
     "name": "stderr",
     "output_type": "stream",
     "text": [
      "C:\\Users\\mrtak\\AppData\\Local\\Temp\\ipykernel_14784\\1837642073.py:51: FutureWarning: The 'delim_whitespace' keyword in pd.read_csv is deprecated and will be removed in a future version. Use ``sep='\\s+'`` instead\n",
      "  df = pd.read_csv(input_filepath, delim_whitespace=True, header=None, skiprows=1, encoding='utf-8')\n",
      "C:\\Users\\mrtak\\AppData\\Local\\Temp\\ipykernel_14784\\1837642073.py:51: FutureWarning: The 'delim_whitespace' keyword in pd.read_csv is deprecated and will be removed in a future version. Use ``sep='\\s+'`` instead\n",
      "  df = pd.read_csv(input_filepath, delim_whitespace=True, header=None, skiprows=1, encoding='utf-8')\n",
      "C:\\Users\\mrtak\\AppData\\Local\\Temp\\ipykernel_14784\\1837642073.py:51: FutureWarning: The 'delim_whitespace' keyword in pd.read_csv is deprecated and will be removed in a future version. Use ``sep='\\s+'`` instead\n",
      "  df = pd.read_csv(input_filepath, delim_whitespace=True, header=None, skiprows=1, encoding='utf-8')\n",
      "C:\\Users\\mrtak\\AppData\\Local\\Temp\\ipykernel_14784\\1837642073.py:51: FutureWarning: The 'delim_whitespace' keyword in pd.read_csv is deprecated and will be removed in a future version. Use ``sep='\\s+'`` instead\n",
      "  df = pd.read_csv(input_filepath, delim_whitespace=True, header=None, skiprows=1, encoding='utf-8')\n"
     ]
    }
   ],
   "source": [
    "### 使用例 (フォルダ選択ダイアログ付き)\n",
    "\n",
    "if __name__ == \"__main__\":\n",
    "    # Tkinterのルートウィンドウを作成（非表示）\n",
    "    root = tk.Tk()\n",
    "    root.withdraw()\n",
    "\n",
    "    # 入力ディレクトリの選択\n",
    "    input_folder = filedialog.askdirectory(\n",
    "        title=\"リストファイルが格納されているフォルダを選択してください\"\n",
    "    )\n",
    "\n",
    "    if not input_folder:\n",
    "        print(\"入力フォルダが選択されませんでした。処理を終了します。\")\n",
    "    else:\n",
    "        # 出力ディレクトリの選択\n",
    "        output_folder = filedialog.askdirectory(\n",
    "            title=\"CSVファイルを保存するフォルダを選択してください\"\n",
    "        )\n",
    "\n",
    "        if not output_folder:\n",
    "            print(\"出力フォルダが選択されませんでした。入力フォルダと同じ場所に保存します。\")\n",
    "            output_folder = input_folder # 出力フォルダが選択されなかった場合は入力フォルダと同じにする\n",
    "\n",
    "        convert_list_to_csv(input_folder, output_folder)"
   ]
  },
  {
   "cell_type": "code",
   "execution_count": 8,
   "id": "1c5ba8e0",
   "metadata": {},
   "outputs": [],
   "source": [
    "#ここまででこいつの処理は十分"
   ]
  },
  {
   "cell_type": "code",
   "execution_count": null,
   "id": "0e99e7a2",
   "metadata": {},
   "outputs": [],
   "source": []
  }
 ],
 "metadata": {
  "kernelspec": {
   "display_name": "Python 3 (ipykernel)",
   "language": "python",
   "name": "python3"
  },
  "language_info": {
   "codemirror_mode": {
    "name": "ipython",
    "version": 3
   },
   "file_extension": ".py",
   "mimetype": "text/x-python",
   "name": "python",
   "nbconvert_exporter": "python",
   "pygments_lexer": "ipython3",
   "version": "3.13.5"
  }
 },
 "nbformat": 4,
 "nbformat_minor": 5
}
