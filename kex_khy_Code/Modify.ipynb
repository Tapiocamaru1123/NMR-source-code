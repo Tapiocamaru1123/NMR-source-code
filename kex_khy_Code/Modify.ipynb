{
 "cells": [
  {
   "cell_type": "code",
   "execution_count": 1,
   "id": "a39ee465",
   "metadata": {},
   "outputs": [],
   "source": [
    "import pandas as pd\n",
    "import numpy as np\n",
    "import ipywidgets as widgets\n",
    "from IPython.display import display, HTML\n",
    "import tkinter as tk\n",
    "from tkinter import filedialog"
   ]
  },
  {
   "cell_type": "code",
   "execution_count": 2,
   "id": "e11773e1-45c2-43f8-82e8-5648c8e5fee0",
   "metadata": {},
   "outputs": [
    {
     "data": {
      "text/html": [
       "<h3>1. ファイルパスと実験範囲の設定</h3>"
      ],
      "text/plain": [
       "<IPython.core.display.HTML object>"
      ]
     },
     "metadata": {},
     "output_type": "display_data"
    },
    {
     "data": {
      "application/vnd.jupyter.widget-view+json": {
       "model_id": "8dff3d10eba74d0e88e970b9fccdb32c",
       "version_major": 2,
       "version_minor": 0
      },
      "text/plain": [
       "Label(value='入力CSVファイル:')"
      ]
     },
     "metadata": {},
     "output_type": "display_data"
    },
    {
     "data": {
      "application/vnd.jupyter.widget-view+json": {
       "model_id": "286c95757b8f40b28afa0e4f136d859c",
       "version_major": 2,
       "version_minor": 0
      },
      "text/plain": [
       "HBox(children=(Text(value='', layout=Layout(width='80%'), placeholder='Click \"Browse...\" to select a file'), B…"
      ]
     },
     "metadata": {},
     "output_type": "display_data"
    },
    {
     "data": {
      "application/vnd.jupyter.widget-view+json": {
       "model_id": "120bf4e4c2b347539fd28a4438abaf4c",
       "version_major": 2,
       "version_minor": 0
      },
      "text/plain": [
       "Label(value='出力CSVファイル:')"
      ]
     },
     "metadata": {},
     "output_type": "display_data"
    },
    {
     "data": {
      "application/vnd.jupyter.widget-view+json": {
       "model_id": "5f457065e2a4438e88d63c0b2b51ffd5",
       "version_major": 2,
       "version_minor": 0
      },
      "text/plain": [
       "HBox(children=(Text(value='', layout=Layout(width='80%'), placeholder='Click \"Browse...\" to set save path'), B…"
      ]
     },
     "metadata": {},
     "output_type": "display_data"
    },
    {
     "data": {
      "application/vnd.jupyter.widget-view+json": {
       "model_id": "8a757c602b4641d09bbd1386296928f7",
       "version_major": 2,
       "version_minor": 0
      },
      "text/plain": [
       "HBox(children=(IntText(value=2, description='開始EXPNO:', style=DescriptionStyle(description_width='initial')), …"
      ]
     },
     "metadata": {},
     "output_type": "display_data"
    },
    {
     "data": {
      "text/html": [
       "<h3>2. 探索するシグナルの設定</h3>"
      ],
      "text/plain": [
       "<IPython.core.display.HTML object>"
      ]
     },
     "metadata": {},
     "output_type": "display_data"
    },
    {
     "data": {
      "text/html": [
       "<h4>GDP-bound Signal</h4>"
      ],
      "text/plain": [
       "<IPython.core.display.HTML object>"
      ]
     },
     "metadata": {},
     "output_type": "display_data"
    },
    {
     "data": {
      "application/vnd.jupyter.widget-view+json": {
       "model_id": "a82e4eea7c2c4a9193cfa7a24fbc4a6b",
       "version_major": 2,
       "version_minor": 0
      },
      "text/plain": [
       "VBox(children=(FloatText(value=0.7, description='GDPシグナルの水素 (¹H) 化学シフト値 (f1_ppm列):', layout=Layout(width='90%'…"
      ]
     },
     "metadata": {},
     "output_type": "display_data"
    },
    {
     "data": {
      "text/html": [
       "<h4>GTP-bound Signal</h4>"
      ],
      "text/plain": [
       "<IPython.core.display.HTML object>"
      ]
     },
     "metadata": {},
     "output_type": "display_data"
    },
    {
     "data": {
      "application/vnd.jupyter.widget-view+json": {
       "model_id": "4413aeba14b8413a9bc261fb73d13c77",
       "version_major": 2,
       "version_minor": 0
      },
      "text/plain": [
       "VBox(children=(FloatText(value=0.85, description='GTPシグナルの水素 (¹H) 化学シフト値 (f1_ppm列):', layout=Layout(width='90%…"
      ]
     },
     "metadata": {},
     "output_type": "display_data"
    }
   ],
   "source": [
    "## --- ファイル選択関数 (変更なし) ---\n",
    "def select_file(widget_to_update):\n",
    "    root = tk.Tk()\n",
    "    root.withdraw()\n",
    "    root.attributes('-topmost', True)\n",
    "    file_path = filedialog.askopenfilename(title=\"Select CSV file\", filetypes=[(\"CSV files\", \"*.csv\"), (\"All files\", \"*.*\")])\n",
    "    if file_path:\n",
    "        widget_to_update.value = file_path\n",
    "    root.destroy()\n",
    "\n",
    "def select_save_path(widget_to_update):\n",
    "    root = tk.Tk()\n",
    "    root.withdraw()\n",
    "    root.attributes('-topmost', True)\n",
    "    file_path = filedialog.asksaveasfilename(title=\"Select output CSV path\", defaultextension=\".csv\", filetypes=[(\"CSV files\", \"*.csv\"), (\"All files\", \"*.*\")])\n",
    "    if file_path:\n",
    "        widget_to_update.value = file_path\n",
    "    root.destroy()\n",
    "\n",
    "# --- ユーザー入力フォームを作成 ---\n",
    "style = {'description_width': 'initial'}\n",
    "\n",
    "# ファイルパスと実験範囲\n",
    "input_path_widget = widgets.Text(placeholder='Click \"Browse...\" to select a file', layout=widgets.Layout(width='80%'))\n",
    "input_browse_button = widgets.Button(description=\"Browse...\")\n",
    "input_browse_button.on_click(lambda b: select_file(input_path_widget))\n",
    "input_box = widgets.HBox([input_path_widget, input_browse_button])\n",
    "\n",
    "output_path_widget = widgets.Text(placeholder='Click \"Browse...\" to set save path', layout=widgets.Layout(width='80%'))\n",
    "output_browse_button = widgets.Button(description=\"Browse...\")\n",
    "output_browse_button.on_click(lambda b: select_save_path(output_path_widget))\n",
    "output_box = widgets.HBox([output_path_widget, output_browse_button])\n",
    "\n",
    "# 測定間隔の入力ウィジェットを追加\n",
    "expno_box = widgets.HBox([\n",
    "    widgets.IntText(description=\"開始EXPNO:\", value=2, style=style),\n",
    "    widgets.IntText(description=\"終了EXPNO:\", value=41, style=style),\n",
    "    widgets.IntText(description=\"測定間隔 (分):\", value=10, style=style) # デフォルト10分\n",
    "])\n",
    "\n",
    "# --- GDPシグナル用のウィジェット ---\n",
    "gdp_ppm_box = widgets.VBox([\n",
    "    widgets.FloatText(description=\"GDPシグナルの水素 (¹H) 化学シフト値 (f1_ppm列):\", value=0.7, style=style, layout=widgets.Layout(width='90%')),\n",
    "    widgets.FloatText(description=\"GDPシグナルの窒素 (¹⁵N) 化学シフト値 (f2_ppm列):\", value=9.8, style=style, layout=widgets.Layout(width='90%')),\n",
    "    widgets.FloatText(description=\"GDP探索半径 (ppm):\", value=0.1, style=style, layout=widgets.Layout(width='90%'))\n",
    "])\n",
    "\n",
    "# --- GTPシグナル用のウィジェット (追加) ---\n",
    "gtp_ppm_box = widgets.VBox([\n",
    "    widgets.FloatText(description=\"GTPシグナルの水素 (¹H) 化学シフト値 (f1_ppm列):\", value=0.85, style=style, layout=widgets.Layout(width='90%')),\n",
    "    widgets.FloatText(description=\"GTPシグナルの窒素 (¹⁵N) 化学シフト値 (f2_ppm列):\", value=10.3, style=style, layout=widgets.Layout(width='90%')),\n",
    "    widgets.FloatText(description=\"GTP探索半径 (ppm):\", value=0.1, style=style, layout=widgets.Layout(width='90%'))\n",
    "])\n",
    "\n",
    "# ウィジェットをまとめて表示\n",
    "display(HTML(\"<h3>1. ファイルパスと実験範囲の設定</h3>\"))\n",
    "display(widgets.Label(\"入力CSVファイル:\"))\n",
    "display(input_box)\n",
    "display(widgets.Label(\"出力CSVファイル:\"))\n",
    "display(output_box)\n",
    "display(expno_box)\n",
    "display(HTML(\"<h3>2. 探索するシグナルの設定</h3>\"))\n",
    "display(HTML(\"<h4>GDP-bound Signal</h4>\"))\n",
    "display(gdp_ppm_box)\n",
    "display(HTML(\"<h4>GTP-bound Signal</h4>\"))\n",
    "display(gtp_ppm_box)\n",
    "\n",
    "# ウィジェットへのアクセス用\n",
    "start_expno_widget = expno_box.children[0]\n",
    "end_expno_widget = expno_box.children[1]\n",
    "time_interval_widget = expno_box.children[2]\n",
    "gdp_f1_H_input_widget = gdp_ppm_box.children[0]\n",
    "gdp_f2_N_input_widget = gdp_ppm_box.children[1]\n",
    "gdp_radius_input_widget = gdp_ppm_box.children[2]\n",
    "gtp_f1_H_input_widget = gtp_ppm_box.children[0]\n",
    "gtp_f2_N_input_widget = gtp_ppm_box.children[1]\n",
    "gtp_radius_input_widget = gtp_ppm_box.children[2]"
   ]
  },
  {
   "cell_type": "code",
   "execution_count": 3,
   "id": "aa29cfe0",
   "metadata": {},
   "outputs": [
    {
     "name": "stdout",
     "output_type": "stream",
     "text": [
      "INFO: GDPおよびGTPシグナルの探索を開始します。\n",
      "完了: 処理結果を C:/NMRdata/Takaoka_250806_WT_khy/new.csv に保存しました。\n"
     ]
    }
   ],
   "source": [
    "# --- ピーク探索用の補助関数 (追加) ---\n",
    "def find_closest_peak(df, target_f1_ppm, target_f2_ppm, search_radius):\n",
    "    \"\"\"DataFrameの中からターゲット座標に最も近いピークを探し、その行を返す\"\"\"\n",
    "    if df.empty:\n",
    "        return None\n",
    "        \n",
    "    distances = np.sqrt(\n",
    "        (df['f1_ppm'] - target_f1_ppm)**2 + \n",
    "        (df['f2_ppm'] - target_f2_ppm)**2\n",
    "    )\n",
    "    min_dist_idx = distances.idxmin()\n",
    "    \n",
    "    if distances[min_dist_idx] <= search_radius:\n",
    "        return df.loc[min_dist_idx]\n",
    "    else:\n",
    "        return None\n",
    "\n",
    "# --- メインの処理関数 ---\n",
    "def process_data():\n",
    "    # ウィジェットから値を取得\n",
    "    input_csv_path = input_path_widget.value\n",
    "    output_csv_path = output_path_widget.value\n",
    "    start_expno = start_expno_widget.value\n",
    "    end_expno = end_expno_widget.value\n",
    "    time_interval_minutes = time_interval_widget.value # 追加\n",
    "    \n",
    "    # GDPターゲット値\n",
    "    target_gdp_f1_H = gdp_f1_H_input_widget.value\n",
    "    target_gdp_f2_N = gdp_f2_N_input_widget.value\n",
    "    gdp_search_radius = gdp_radius_input_widget.value\n",
    "    \n",
    "    # GTPターゲット値\n",
    "    target_gtp_f1_H = gtp_f1_H_input_widget.value\n",
    "    target_gtp_f2_N = gtp_f2_N_input_widget.value\n",
    "    gtp_search_radius = gtp_radius_input_widget.value\n",
    "\n",
    "    if not input_csv_path or not output_csv_path:\n",
    "        print(\"エラー: 入力および出力ファイルのパスを両方入力してください。\")\n",
    "        return\n",
    "\n",
    "    try:\n",
    "        df = pd.read_csv(input_csv_path)\n",
    "    except FileNotFoundError:\n",
    "        print(f\"エラー: 入力ファイルが見つかりません。パスを確認してください: {input_csv_path}\")\n",
    "        return\n",
    "\n",
    "    print(\"INFO: GDPおよびGTPシグナルの探索を開始します。\")\n",
    "    \n",
    "    results = []\n",
    "\n",
    "    # 各実験番号ごとに両方のピークを探す\n",
    "    for expno in range(start_expno, end_expno + 1):\n",
    "        exp_df = df[df['expno'] == expno]\n",
    "        \n",
    "        gdp_peak = find_closest_peak(exp_df, target_gdp_f1_H, target_gdp_f2_N, gdp_search_radius)\n",
    "        gtp_peak = find_closest_peak(exp_df, target_gtp_f1_H, target_gtp_f2_N, gtp_search_radius)\n",
    "        \n",
    "        # ↓↓↓ time_min列を追加 ↓↓↓\n",
    "        time_min = (expno - start_expno) * time_interval_minutes\n",
    "        \n",
    "        result_row = {'expno': expno, 'time_min': time_min}\n",
    "        result_row['gdp_intensity'] = gdp_peak['intensity'] if gdp_peak is not None else np.nan\n",
    "        result_row['gtp_intensity'] = gtp_peak['intensity'] if gtp_peak is not None else np.nan\n",
    "        results.append(result_row)\n",
    "\n",
    "    # DataFrameに変換\n",
    "    final_df = pd.DataFrame(results)\n",
    "\n",
    "    # 欠損値の補完 (expnoは揃っているのでreindexは厳密には不要ですが、念のため)\n",
    "    # final_df = final_df.set_index('expno').reindex(range(start_expno, end_expno + 1)).reset_index()\n",
    "\n",
    "    # 新しいCSVファイルに出力\n",
    "    # ↓↓↓ 出力する列名を指定し、インデックスは保存しないように修正 ↓↓↓\n",
    "    final_df.to_csv(\n",
    "        output_csv_path, \n",
    "        columns=['expno', 'time_min', 'gdp_intensity', 'gtp_intensity'], \n",
    "        index=False\n",
    "    )\n",
    "    print(f\"完了: 処理結果を {output_csv_path} に保存しました。\")\n",
    "    \n",
    "# 関数を実行\n",
    "process_data()"
   ]
  },
  {
   "cell_type": "code",
   "execution_count": null,
   "id": "cf5f34a5",
   "metadata": {},
   "outputs": [],
   "source": []
  }
 ],
 "metadata": {
  "kernelspec": {
   "display_name": "Python 3 (ipykernel)",
   "language": "python",
   "name": "python3"
  },
  "language_info": {
   "codemirror_mode": {
    "name": "ipython",
    "version": 3
   },
   "file_extension": ".py",
   "mimetype": "text/x-python",
   "name": "python",
   "nbconvert_exporter": "python",
   "pygments_lexer": "ipython3",
   "version": "3.12.11"
  }
 },
 "nbformat": 4,
 "nbformat_minor": 5
}
