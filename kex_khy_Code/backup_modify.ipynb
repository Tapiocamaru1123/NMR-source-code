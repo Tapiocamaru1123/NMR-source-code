{
 "cells": [
  {
   "cell_type": "code",
   "execution_count": 1,
   "id": "b57b8922-1479-4950-9298-b52901ad8adc",
   "metadata": {},
   "outputs": [
    {
     "data": {
      "text/html": [
       "<h3>1. ファイルパスと実験範囲の設定</h3>"
      ],
      "text/plain": [
       "<IPython.core.display.HTML object>"
      ]
     },
     "metadata": {},
     "output_type": "display_data"
    },
    {
     "data": {
      "application/vnd.jupyter.widget-view+json": {
       "model_id": "c5aeef0f48f94b119b96e1cd19840669",
       "version_major": 2,
       "version_minor": 0
      },
      "text/plain": [
       "Label(value='入力CSVファイル:')"
      ]
     },
     "metadata": {},
     "output_type": "display_data"
    },
    {
     "data": {
      "application/vnd.jupyter.widget-view+json": {
       "model_id": "3d06e10c6a9f43ca8597b9ce6d5d0389",
       "version_major": 2,
       "version_minor": 0
      },
      "text/plain": [
       "HBox(children=(Text(value='', layout=Layout(width='80%'), placeholder='Click \"Browse...\" to select a file'), B…"
      ]
     },
     "metadata": {},
     "output_type": "display_data"
    },
    {
     "data": {
      "application/vnd.jupyter.widget-view+json": {
       "model_id": "0b89ff874cbf4ab4a295171fcda88d86",
       "version_major": 2,
       "version_minor": 0
      },
      "text/plain": [
       "Label(value='出力CSVファイル:')"
      ]
     },
     "metadata": {},
     "output_type": "display_data"
    },
    {
     "data": {
      "application/vnd.jupyter.widget-view+json": {
       "model_id": "53128aa33b614773a494c297f323da65",
       "version_major": 2,
       "version_minor": 0
      },
      "text/plain": [
       "HBox(children=(Text(value='', layout=Layout(width='80%'), placeholder='Click \"Browse...\" to set save path'), B…"
      ]
     },
     "metadata": {},
     "output_type": "display_data"
    },
    {
     "data": {
      "application/vnd.jupyter.widget-view+json": {
       "model_id": "397caa2f91394f5f95997b148edae479",
       "version_major": 2,
       "version_minor": 0
      },
      "text/plain": [
       "HBox(children=(IntText(value=1, description='開始EXPNO:', style=DescriptionStyle(description_width='initial')), …"
      ]
     },
     "metadata": {},
     "output_type": "display_data"
    },
    {
     "data": {
      "text/html": [
       "<h3>2. 探索するシグナルの設定</h3>"
      ],
      "text/plain": [
       "<IPython.core.display.HTML object>"
      ]
     },
     "metadata": {},
     "output_type": "display_data"
    },
    {
     "data": {
      "text/html": [
       "<h4>GDP-bound Signal</h4>"
      ],
      "text/plain": [
       "<IPython.core.display.HTML object>"
      ]
     },
     "metadata": {},
     "output_type": "display_data"
    },
    {
     "data": {
      "application/vnd.jupyter.widget-view+json": {
       "model_id": "e95f578b82aa47fabf0fc332adca52ec",
       "version_major": 2,
       "version_minor": 0
      },
      "text/plain": [
       "VBox(children=(FloatText(value=0.1, description='GDPシグナルの水素 (¹H) 化学シフト値 (f1_ppm列):', layout=Layout(width='90%'…"
      ]
     },
     "metadata": {},
     "output_type": "display_data"
    },
    {
     "data": {
      "text/html": [
       "<h4>GTP-bound Signal</h4>"
      ],
      "text/plain": [
       "<IPython.core.display.HTML object>"
      ]
     },
     "metadata": {},
     "output_type": "display_data"
    },
    {
     "data": {
      "application/vnd.jupyter.widget-view+json": {
       "model_id": "8813724ef61947f5be1601da9fa8f9fa",
       "version_major": 2,
       "version_minor": 0
      },
      "text/plain": [
       "VBox(children=(FloatText(value=0.6, description='GTPシグナルの水素 (¹H) 化学シフト値 (f1_ppm列):', layout=Layout(width='90%'…"
      ]
     },
     "metadata": {},
     "output_type": "display_data"
    }
   ],
   "source": [
    "import pandas as pd\n",
    "import numpy as np\n",
    "import ipywidgets as widgets\n",
    "from IPython.display import display, HTML\n",
    "import tkinter as tk\n",
    "from tkinter import filedialog\n",
    "\n",
    "# --- ファイル選択関数 (変更なし) ---\n",
    "def select_file(widget_to_update):\n",
    "    root = tk.Tk()\n",
    "    root.withdraw()\n",
    "    root.attributes('-topmost', True)\n",
    "    file_path = filedialog.askopenfilename(title=\"Select CSV file\", filetypes=[(\"CSV files\", \"*.csv\"), (\"All files\", \"*.*\")])\n",
    "    if file_path:\n",
    "        widget_to_update.value = file_path\n",
    "    root.destroy()\n",
    "\n",
    "def select_save_path(widget_to_update):\n",
    "    root = tk.Tk()\n",
    "    root.withdraw()\n",
    "    root.attributes('-topmost', True)\n",
    "    file_path = filedialog.asksaveasfilename(title=\"Select output CSV path\", defaultextension=\".csv\", filetypes=[(\"CSV files\", \"*.csv\"), (\"All files\", \"*.*\")])\n",
    "    if file_path:\n",
    "        widget_to_update.value = file_path\n",
    "    root.destroy()\n",
    "\n",
    "# --- ユーザー入力フォームを作成 ---\n",
    "style = {'description_width': 'initial'}\n",
    "\n",
    "# ファイルパスと実験範囲\n",
    "input_path_widget = widgets.Text(placeholder='Click \"Browse...\" to select a file', layout=widgets.Layout(width='80%'))\n",
    "input_browse_button = widgets.Button(description=\"Browse...\")\n",
    "input_browse_button.on_click(lambda b: select_file(input_path_widget))\n",
    "input_box = widgets.HBox([input_path_widget, input_browse_button])\n",
    "\n",
    "output_path_widget = widgets.Text(placeholder='Click \"Browse...\" to set save path', layout=widgets.Layout(width='80%'))\n",
    "output_browse_button = widgets.Button(description=\"Browse...\")\n",
    "output_browse_button.on_click(lambda b: select_save_path(output_path_widget))\n",
    "output_box = widgets.HBox([output_path_widget, output_browse_button])\n",
    "\n",
    "expno_box = widgets.HBox([widgets.IntText(description=\"開始EXPNO:\", value=1, style=style), widgets.IntText(description=\"終了EXPNO:\", value=40, style=style)])\n",
    "\n",
    "# --- GDPシグナル用のウィジェット ---\n",
    "gdp_ppm_box = widgets.VBox([\n",
    "    widgets.FloatText(description=\"GDPシグナルの水素 (¹H) 化学シフト値 (f1_ppm列):\", value=0.1, style=style, layout=widgets.Layout(width='90%')),\n",
    "    widgets.FloatText(description=\"GDPシグナルの窒素 (¹⁵N) 化学シフト値 (f2_ppm列):\", value=8.4, style=style, layout=widgets.Layout(width='90%')),\n",
    "    widgets.FloatText(description=\"GDP探索半径 (ppm):\", value=0.2, style=style, layout=widgets.Layout(width='90%'))\n",
    "])\n",
    "\n",
    "# --- GTPシグナル用のウィジェット (追加) ---\n",
    "gtp_ppm_box = widgets.VBox([\n",
    "    widgets.FloatText(description=\"GTPシグナルの水素 (¹H) 化学シフト値 (f1_ppm列):\", value=0.6, style=style, layout=widgets.Layout(width='90%')),\n",
    "    widgets.FloatText(description=\"GTPシグナルの窒素 (¹⁵N) 化学シフト値 (f2_ppm列):\", value=8.7, style=style, layout=widgets.Layout(width='90%')),\n",
    "    widgets.FloatText(description=\"GTP探索半径 (ppm):\", value=0.2, style=style, layout=widgets.Layout(width='90%'))\n",
    "])\n",
    "\n",
    "# ウィジェットをまとめて表示\n",
    "display(HTML(\"<h3>1. ファイルパスと実験範囲の設定</h3>\"))\n",
    "display(widgets.Label(\"入力CSVファイル:\"))\n",
    "display(input_box)\n",
    "display(widgets.Label(\"出力CSVファイル:\"))\n",
    "display(output_box)\n",
    "display(expno_box)\n",
    "\n",
    "display(HTML(\"<h3>2. 探索するシグナルの設定</h3>\"))\n",
    "display(HTML(\"<h4>GDP-bound Signal</h4>\"))\n",
    "display(gdp_ppm_box)\n",
    "display(HTML(\"<h4>GTP-bound Signal</h4>\"))\n",
    "display(gtp_ppm_box)\n",
    "\n",
    "# ウィジェットへのアクセス用\n",
    "start_expno_widget = expno_box.children[0]\n",
    "end_expno_widget = expno_box.children[1]\n",
    "gdp_f1_H_input_widget = gdp_ppm_box.children[0]\n",
    "gdp_f2_N_input_widget = gdp_ppm_box.children[1]\n",
    "gdp_radius_input_widget = gdp_ppm_box.children[2]\n",
    "gtp_f1_H_input_widget = gtp_ppm_box.children[0]\n",
    "gtp_f2_N_input_widget = gtp_ppm_box.children[1]\n",
    "gtp_radius_input_widget = gtp_ppm_box.children[2]"
   ]
  },
  {
   "cell_type": "code",
   "execution_count": 2,
   "id": "c4e86875-f243-489e-9f13-cc493c645c17",
   "metadata": {},
   "outputs": [
    {
     "name": "stdout",
     "output_type": "stream",
     "text": [
      "エラー: 入力および出力ファイルのパスを両方入力してください。\n"
     ]
    }
   ],
   "source": [
    "import pandas as pd\n",
    "import numpy as np\n",
    "\n",
    "# --- ピーク探索用の補助関数 ---\n",
    "def find_closest_peak(df, target_f1_ppm, target_f2_ppm, search_radius):\n",
    "    \"\"\"DataFrameの中からターゲット座標に最も近いピークを探し、その行を返す\"\"\"\n",
    "    if df.empty:\n",
    "        return None\n",
    "        \n",
    "    distances = np.sqrt(\n",
    "        (df['f1_ppm'] - target_f1_ppm)**2 + \n",
    "        (df['f2_ppm'] - target_f2_ppm)**2\n",
    "    )\n",
    "    min_dist_idx = distances.idxmin()\n",
    "    \n",
    "    if distances[min_dist_idx] <= search_radius:\n",
    "        return df.loc[min_dist_idx]\n",
    "    else:\n",
    "        return None\n",
    "\n",
    "# --- メインの処理関数 ---\n",
    "def process_data():\n",
    "    # ウィジェットから値を取得\n",
    "    input_csv_path = input_path_widget.value\n",
    "    output_csv_path = output_path_widget.value\n",
    "    start_expno = start_expno_widget.value\n",
    "    end_expno = end_expno_widget.value\n",
    "    \n",
    "    # GDPターゲット値\n",
    "    target_gdp_f1_H = gdp_f1_H_input_widget.value\n",
    "    target_gdp_f2_N = gdp_f2_N_input_widget.value\n",
    "    gdp_search_radius = gdp_radius_input_widget.value\n",
    "    \n",
    "    # GTPターゲット値\n",
    "    target_gtp_f1_H = gtp_f1_H_input_widget.value\n",
    "    target_gtp_f2_N = gtp_f2_N_input_widget.value\n",
    "    gtp_search_radius = gtp_radius_input_widget.value\n",
    "\n",
    "    if not input_csv_path or not output_csv_path:\n",
    "        print(\"エラー: 入力および出力ファイルのパスを両方入力してください。\")\n",
    "        return\n",
    "\n",
    "    print(f\"INFO: CSVファイルを読み込んでいます: {input_csv_path}\")\n",
    "    try:\n",
    "        df = pd.read_csv(input_csv_path)\n",
    "    except FileNotFoundError:\n",
    "        print(f\"エラー: 入力ファイルが見つかりません。パスを確認してください: {input_csv_path}\")\n",
    "        return\n",
    "\n",
    "    print(\"INFO: GDPおよびGTPシグナルの探索を開始します。\")\n",
    "    \n",
    "    results = []\n",
    "\n",
    "    # 各実験番号ごとに両方のピークを探す\n",
    "    for expno in range(start_expno, end_expno + 1):\n",
    "        exp_df = df[df['expno'] == expno]\n",
    "        \n",
    "        # GDPピークを探す\n",
    "        gdp_peak = find_closest_peak(exp_df, target_gdp_f1_H, target_gdp_f2_N, gdp_search_radius)\n",
    "        # GTPピークを探す\n",
    "        gtp_peak = find_closest_peak(exp_df, target_gtp_f1_H, target_gtp_f2_N, gtp_search_radius)\n",
    "        \n",
    "        # 結果を辞書として保存\n",
    "        result_row = {'expno': expno}\n",
    "        result_row['gdp_intensity'] = gdp_peak['intensity'] if gdp_peak is not None else np.nan\n",
    "        result_row['gtp_intensity'] = gtp_peak['intensity'] if gtp_peak is not None else np.nan\n",
    "        results.append(result_row)\n",
    "\n",
    "    # 結果をDataFrameに変換\n",
    "    final_df = pd.DataFrame(results).set_index('expno')\n",
    "\n",
    "    # --- 欠損値の補完 (reindexは不要になりましたが、念のため) ---\n",
    "    full_expno_range = range(start_expno, end_expno + 1)\n",
    "    final_df = final_df.reindex(full_expno_range)\n",
    "\n",
    "    # --- 新しいCSVファイルに出力 ---\n",
    "    final_df.to_csv(output_csv_path)\n",
    "    print(f\"完了: 処理結果を {output_csv_path} に保存しました。\")\n",
    "    \n",
    "# 関数を実行\n",
    "process_data()"
   ]
  },
  {
   "cell_type": "code",
   "execution_count": null,
   "id": "e8cfb6fd-d5cc-4124-b3a2-57e29833aee9",
   "metadata": {},
   "outputs": [],
   "source": [
    "## --- ファイル選択関数 (変更なし) ---\n",
    "def select_file(widget_to_update):\n",
    "    root = tk.Tk()\n",
    "    root.withdraw()\n",
    "    root.attributes('-topmost', True)\n",
    "    file_path = filedialog.askopenfilename(title=\"Select CSV file\", filetypes=[(\"CSV files\", \"*.csv\"), (\"All files\", \"*.*\")])\n",
    "    if file_path:\n",
    "        widget_to_update.value = file_path\n",
    "    root.destroy()\n",
    "\n",
    "def select_save_path(widget_to_update):\n",
    "    root = tk.Tk()\n",
    "    root.withdraw()\n",
    "    root.attributes('-topmost', True)\n",
    "    file_path = filedialog.asksaveasfilename(title=\"Select output CSV path\", defaultextension=\".csv\", filetypes=[(\"CSV files\", \"*.csv\"), (\"All files\", \"*.*\")])\n",
    "    if file_path:\n",
    "        widget_to_update.value = file_path\n",
    "    root.destroy()\n",
    "\n",
    "# --- ユーザー入力フォームを作成 ---\n",
    "style = {'description_width': 'initial'}\n",
    "\n",
    "# ファイルパスと実験範囲\n",
    "input_path_widget = widgets.Text(placeholder='Click \"Browse...\" to select a file', layout=widgets.Layout(width='80%'))\n",
    "input_browse_button = widgets.Button(description=\"Browse...\")\n",
    "input_browse_button.on_click(lambda b: select_file(input_path_widget))\n",
    "input_box = widgets.HBox([input_path_widget, input_browse_button])\n",
    "\n",
    "output_path_widget = widgets.Text(placeholder='Click \"Browse...\" to set save path', layout=widgets.Layout(width='80%'))\n",
    "output_browse_button = widgets.Button(description=\"Browse...\")\n",
    "output_browse_button.on_click(lambda b: select_save_path(output_path_widget))\n",
    "output_box = widgets.HBox([output_path_widget, output_browse_button])\n",
    "\n",
    "# 測定間隔の入力ウィジェットを追加\n",
    "expno_box = widgets.HBox([\n",
    "    widgets.IntText(description=\"開始EXPNO:\", value=2, style=style),\n",
    "    widgets.IntText(description=\"終了EXPNO:\", value=41, style=style),\n",
    "    widgets.IntText(description=\"測定間隔 (分):\", value=10, style=style) # デフォルト10分\n",
    "])\n",
    "\n",
    "# --- GDPシグナル用のウィジェット ---\n",
    "gdp_ppm_box = widgets.VBox([\n",
    "    widgets.FloatText(description=\"GDPシグナルの水素 (¹H) 化学シフト値 (f1_ppm列):\", value=0.7, style=style, layout=widgets.Layout(width='90%')),\n",
    "    widgets.FloatText(description=\"GDPシグナルの窒素 (¹⁵N) 化学シフト値 (f2_ppm列):\", value=9.8, style=style, layout=widgets.Layout(width='90%')),\n",
    "    widgets.FloatText(description=\"GDP探索半径 (ppm):\", value=0.1, style=style, layout=widgets.Layout(width='90%'))\n",
    "])\n",
    "\n",
    "# --- GTPシグナル用のウィジェット (追加) ---\n",
    "gtp_ppm_box = widgets.VBox([\n",
    "    widgets.FloatText(description=\"GTPシグナルの水素 (¹H) 化学シフト値 (f1_ppm列):\", value=0.85, style=style, layout=widgets.Layout(width='90%')),\n",
    "    widgets.FloatText(description=\"GTPシグナルの窒素 (¹⁵N) 化学シフト値 (f2_ppm列):\", value=10.3, style=style, layout=widgets.Layout(width='90%')),\n",
    "    widgets.FloatText(description=\"GTP探索半径 (ppm):\", value=0.1, style=style, layout=widgets.Layout(width='90%'))\n",
    "])\n",
    "\n",
    "# ウィジェットをまとめて表示\n",
    "display(HTML(\"<h3>1. ファイルパスと実験範囲の設定</h3>\"))\n",
    "display(widgets.Label(\"入力CSVファイル:\"))\n",
    "display(input_box)\n",
    "display(widgets.Label(\"出力CSVファイル:\"))\n",
    "display(output_box)\n",
    "display(expno_box)\n",
    "display(HTML(\"<h3>2. 探索するシグナルの設定</h3>\"))\n",
    "display(HTML(\"<h4>GDP-bound Signal</h4>\"))\n",
    "display(gdp_ppm_box)\n",
    "display(HTML(\"<h4>GTP-bound Signal</h4>\"))\n",
    "display(gtp_ppm_box)\n",
    "\n",
    "# ウィジェットへのアクセス用\n",
    "start_expno_widget = expno_box.children[0]\n",
    "end_expno_widget = expno_box.children[1]\n",
    "time_interval_widget = expno_box.children[2]\n",
    "gdp_f1_H_input_widget = gdp_ppm_box.children[0]\n",
    "gdp_f2_N_input_widget = gdp_ppm_box.children[1]\n",
    "gdp_radius_input_widget = gdp_ppm_box.children[2]\n",
    "gtp_f1_H_input_widget = gtp_ppm_box.children[0]\n",
    "gtp_f2_N_input_widget = gtp_ppm_box.children[1]\n",
    "gtp_radius_input_widget = gtp_ppm_box.children[2]"
   ]
  }
 ],
 "metadata": {
  "kernelspec": {
   "display_name": "Python 3 (ipykernel)",
   "language": "python",
   "name": "python3"
  },
  "language_info": {
   "codemirror_mode": {
    "name": "ipython",
    "version": 3
   },
   "file_extension": ".py",
   "mimetype": "text/x-python",
   "name": "python",
   "nbconvert_exporter": "python",
   "pygments_lexer": "ipython3",
   "version": "3.12.11"
  }
 },
 "nbformat": 4,
 "nbformat_minor": 5
}
