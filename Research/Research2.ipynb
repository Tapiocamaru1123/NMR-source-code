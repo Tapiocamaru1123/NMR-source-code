{
 "cells": [
  {
   "cell_type": "code",
   "execution_count": 1,
   "id": "edaaff1e-ac6e-4a9b-ac5e-4e462e395f1a",
   "metadata": {
    "scrolled": true
   },
   "outputs": [],
   "source": [
    "# --- 1. ライブラリのインポート ---\n",
    "import os\n",
    "import pandas as pd\n",
    "import requests\n",
    "import re\n",
    "from time import sleep\n",
    "from datetime import datetime\n",
    "from Bio import Entrez\n",
    "from googletrans import Translator\n",
    "import ipywidgets as widgets\n",
    "from IPython.display import display"
   ]
  },
  {
   "cell_type": "code",
   "execution_count": 2,
   "id": "cb122058-915a-4552-aad3-079cf9b92b24",
   "metadata": {},
   "outputs": [],
   "source": [
    "# --- 基本設定 ---\n",
    "\n",
    "# NCBI Entrezへの登録メールアドレス (必須)\n",
    "# PubMedのAPIを利用するために、NCBIに自分の身元を伝えるメールアドレスが必要です。\n",
    "Entrez.email = \"gakukibou@gmail.com\"  # ★ 必ずご自身のメールアドレスに書き換えてください\n",
    "\n",
    "TARGET_JOURNALS_WITH_IF = [\n",
    "    {'name': 'Nature Reviews Drug Discovery', 'if': 120.1}, {'name': 'Nature Reviews Molecular Cell Biology', 'if': 98.6},\n",
    "    {'name': 'Cancer Cell', 'if': 52.4}, {'name': 'Cell', 'if': 50.5}, {'name': 'Nature', 'if': 48.3},\n",
    "    {'name': 'Science', 'if': 46.5}, {'name': 'Nature Medicine', 'if': 45.1}, {'name': 'Nature Chemical Biology', 'if': 43.8},\n",
    "    {'name': 'Nature Structural & Molecular Biology', 'if': 42.1}, {'name': 'Cancer Discovery', 'if': 38.5},\n",
    "    {'name': 'Molecular Cell', 'if': 37.9}, {'name': 'Journal of Clinical Oncology', 'if': 35.1},\n",
    "    {'name': 'Immunity', 'if': 32.4}, {'name': 'Genes & Development', 'if': 31.2},\n",
    "    {'name': 'Annual Review of Biochemistry', 'if': 30.5}, {'name': 'eLife', 'if': 29.8},\n",
    "    {'name': 'Journal of the American Chemical Society', 'if': 28.7}, {'name': 'Angewandte Chemie International Edition', 'if': 27.5},\n",
    "    {'name': 'Trends in Pharmacological Sciences', 'if': 26.8}, {'name': 'Proceedings of the National Academy of Sciences', 'if': 25.4},\n",
    "    {'name': 'Journal of Medicinal Chemistry', 'if': 24.1}\n",
    "]"
   ]
  },
  {
   "cell_type": "code",
   "execution_count": 3,
   "id": "56b7fc20-1f61-4136-8468-da28697e355e",
   "metadata": {},
   "outputs": [],
   "source": [
    "# --- 3. UIウィジェットの作成 ---\n",
    "\n",
    "# ジャーナルのチェックボックスを作成\n",
    "journal_checkboxes = [\n",
    "    widgets.Checkbox(value=True, description=f\"{journal['name']} (IF: {journal['if']})\", indent=False, layout=widgets.Layout(width='95%')) \n",
    "    for journal in TARGET_JOURNALS_WITH_IF\n",
    "]\n",
    "\n",
    "# その他の入力ウィジェットを作成\n",
    "topic_input = widgets.Text(value='KRAS AND G12D AND inhibitor', placeholder='研究キーワードを入力', description='キーワード:', layout=widgets.Layout(width='80%'))\n",
    "start_year_input = widgets.IntText(value=2023, description='開始年:')\n",
    "end_year_input = widgets.IntText(value=2025, description='終了年:')\n",
    "max_results_input = widgets.IntText(value=20, description='最大件数:')\n",
    "csv_path_input = widgets.Text(value='pubmed_論文リスト_2.csv', placeholder='保存ファイル名', description='保存先:', layout=widgets.Layout(width='80%'))\n"
   ]
  },
  {
   "cell_type": "code",
   "execution_count": 4,
   "id": "8e96ed52-6fe7-41c7-bf4c-be9b4a8dbc0e",
   "metadata": {
    "scrolled": true
   },
   "outputs": [
    {
     "name": "stdout",
     "output_type": "stream",
     "text": [
      "--- トップジャーナル論文検索ツール ---\n",
      "1. 以下のリストから、検索対象とするジャーナルを選択（チェックを外すと除外）してください。\n"
     ]
    },
    {
     "data": {
      "application/vnd.jupyter.widget-view+json": {
       "model_id": "05717690515a4523b82a738033f2d3b6",
       "version_major": 2,
       "version_minor": 0
      },
      "text/plain": [
       "VBox(children=(Checkbox(value=True, description='Nature Reviews Drug Discovery (IF: 120.1)', indent=False, lay…"
      ]
     },
     "metadata": {},
     "output_type": "display_data"
    },
    {
     "name": "stdout",
     "output_type": "stream",
     "text": [
      "\n",
      "2. 検索条件を入力・確認し、下のセルを実行して検索を開始してください。\n"
     ]
    },
    {
     "data": {
      "application/vnd.jupyter.widget-view+json": {
       "model_id": "261116ba65c54bc7b6edb81033f6a87e",
       "version_major": 2,
       "version_minor": 0
      },
      "text/plain": [
       "VBox(children=(Text(value='KRAS AND G12D AND inhibitor', description='キーワード:', layout=Layout(width='80%'), pla…"
      ]
     },
     "metadata": {},
     "output_type": "display_data"
    }
   ],
   "source": [
    "# --- 4. UIの組み立てと表示 ---\n",
    "journal_layout = widgets.Layout(height='300px', border='1px solid black', padding='5px', overflow_y='scroll')\n",
    "journal_selection_ui = widgets.VBox(journal_checkboxes, layout=journal_layout)\n",
    "input_ui = widgets.VBox([\n",
    "    topic_input,\n",
    "    widgets.HBox([start_year_input, end_year_input, max_results_input]),\n",
    "    csv_path_input\n",
    "])\n",
    "\n",
    "print(\"--- トップジャーナル論文検索ツール ---\")\n",
    "print(\"1. 以下のリストから、検索対象とするジャーナルを選択（チェックを外すと除外）してください。\")\n",
    "display(journal_selection_ui)\n",
    "print(\"\\n2. 検索条件を入力・確認し、下のセルを実行して検索を開始してください。\")\n",
    "display(input_ui)"
   ]
  },
  {
   "cell_type": "code",
   "execution_count": 6,
   "id": "f24bc2d8-f51a-47ae-9ce0-03182fb35680",
   "metadata": {},
   "outputs": [
    {
     "name": "stdout",
     "output_type": "stream",
     "text": [
      "\n",
      "--- 設定内容の確認 ---\n",
      "検索対象ジャーナル数: 21誌\n",
      "最終検索クエリ (一部): ((KRAS AND G12D AND MRTX) AND (\"Nature Reviews Drug Discovery\"[Journal] OR \"Nature Reviews Molecular Cell Biology\"[Journal] OR \"Cancer Cell\"[Journal] OR \"Cell\"[Journal] OR \"Nature\"[Journal] OR \"Scienc...\n",
      "最大検索数: 5\n",
      "保存ファイル名: pubmed_論文リスト_3.csv\n",
      "---------------------\n",
      "\n",
      "新規に論文リスト 'pubmed_論文リスト_3.csv' を作成します。\n",
      "PubMedで検索中...\n",
      "1件の論文IDを取得しました。詳細情報を1件ずつ処理します。\n",
      "\n",
      "--- 新規論文を処理中 (PMID: 41017113) ---\n",
      "要約を翻訳中...\n",
      "\n",
      "1件の新規論文が見つかりました。CSVファイルに追加します。\n",
      "'pubmed_論文リスト_3.csv' に保存しました。\n"
     ]
    }
   ],
   "source": [
    "# --- ヘルパー関数の定義 ---\n",
    "def translate_text(text, dest_lang='ja'):\n",
    "    if not text: return \"\"\n",
    "    try:\n",
    "        translator = Translator(); sleep(1)\n",
    "        return translator.translate(text, dest=dest_lang).text\n",
    "    except Exception as e:\n",
    "        print(f\"翻訳中にエラーが発生しました: {e}\"); return \"(翻訳失敗)\"\n",
    "\n",
    "# --- 1. UIから設定値を読み取り ---\n",
    "selected_journals = [cb.description.split(' (IF:')[0] for cb in journal_checkboxes if cb.value]\n",
    "topic_keywords = topic_input.value\n",
    "start_year = start_year_input.value\n",
    "end_year = end_year_input.value\n",
    "max_results = max_results_input.value\n",
    "csv_file_path = csv_path_input.value\n",
    "\n",
    "# --- 2. 検索処理の実行 ---\n",
    "if not topic_keywords or not selected_journals:\n",
    "    print(\"キーワードが入力されていないか、ジャーナルが選択されていません。処理を終了します。\")\n",
    "else:\n",
    "    journal_filter = \" OR \".join([f'\"{journal}\"[Journal]' for journal in selected_journals])\n",
    "    final_search_term = f\"({topic_keywords}) AND ({journal_filter})\"\n",
    "    date_filter = \"\"\n",
    "    if start_year and end_year: date_filter = f\"({start_year}[Date - Publication] : {end_year}[Date - Publication])\"\n",
    "    elif start_year: date_filter = f\"({start_year}[Date - Publication] : {datetime.now().year}[Date - Publication])\"\n",
    "    elif end_year: date_filter = f\"(1000[Date - Publication] : {end_year}[Date - Publication])\"\n",
    "    if date_filter:\n",
    "        final_search_term = f\"({final_search_term}) AND {date_filter}\"\n",
    "\n",
    "    print(\"\\n--- 設定内容の確認 ---\")\n",
    "    print(f\"検索対象ジャーナル数: {len(selected_journals)}誌\")\n",
    "    print(f\"最終検索クエリ (一部): {final_search_term[:200]}...\")\n",
    "    print(f\"最大検索数: {max_results}\")\n",
    "    print(f\"保存ファイル名: {csv_file_path}\")\n",
    "    print(\"---------------------\\n\")\n",
    "    \n",
    "    try:\n",
    "        df_existing = pd.read_csv(csv_file_path); existing_ids = set(df_existing['pmid'].astype(str))\n",
    "        print(f\"既存の論文リスト '{csv_file_path}' を読み込みました。{len(existing_ids)}件が登録済みです。\")\n",
    "    except FileNotFoundError:\n",
    "        df_existing = pd.DataFrame(); existing_ids = set()\n",
    "        print(f\"新規に論文リスト '{csv_file_path}' を作成します。\")\n",
    "\n",
    "    print(f\"PubMedで検索中...\")\n",
    "    handle = Entrez.esearch(db=\"pubmed\", term=final_search_term, retmax=max_results, sort=\"pub date\")\n",
    "    record = Entrez.read(handle); handle.close()\n",
    "    id_list = record[\"IdList\"]\n",
    "\n",
    "    if not id_list:\n",
    "        print(\"検索結果が0件でした。\")\n",
    "    else:\n",
    "        print(f\"{len(id_list)}件の論文IDを取得しました。詳細情報を1件ずつ処理します。\")\n",
    "        handle = Entrez.efetch(db=\"pubmed\", id=id_list, rettype=\"medline\", retmode=\"xml\")\n",
    "        records = Entrez.read(handle)['PubmedArticle']; handle.close()\n",
    "\n",
    "        new_articles = []\n",
    "        for record in records:\n",
    "            citation = record['MedlineCitation']; pmid = str(citation['PMID'])\n",
    "            if pmid in existing_ids: continue\n",
    "\n",
    "            print(f\"\\n--- 新規論文を処理中 (PMID: {pmid}) ---\")\n",
    "            article = citation['Article']\n",
    "            title = article.get('ArticleTitle', 'N/A')\n",
    "            journal_info = article.get('Journal', {}); journal = journal_info.get('Title', 'N/A')\n",
    "            pub_date = journal_info.get('JournalIssue', {}).get('PubDate', {})\n",
    "            pub_year = pub_date.get('Year', pub_date.get('MedlineDate', 'N/A').split(' ')[0])\n",
    "            author_list = article.get('AuthorList', [])\n",
    "            authors = \", \".join([f\"{author.get('LastName', '')} {author.get('ForeName', '')}\".strip() for author in author_list])\n",
    "            abstract_en = \" \".join(article.get('Abstract', {}).get('AbstractText', []))\n",
    "            article_info = {'pmid': pmid, 'title': title, 'pub_year': pub_year, 'journal': journal, 'authors': authors, 'url': f\"https://pubmed.ncbi.nlm.nih.gov/{pmid}/\"}\n",
    "            print(\"要約を翻訳中...\")\n",
    "            article_info['abstract_ja'] = translate_text(abstract_en)\n",
    "            new_articles.append(article_info)\n",
    "            sleep(1)\n",
    "\n",
    "        if new_articles:\n",
    "            print(f\"\\n{len(new_articles)}件の新規論文が見つかりました。CSVファイルに追加します。\")\n",
    "            df_new = pd.DataFrame(new_articles)\n",
    "            column_order = ['pmid', 'title', 'pub_year', 'journal', 'authors', 'url', 'abstract_ja']\n",
    "            df_new = df_new.reindex(columns=column_order)\n",
    "            df_all = pd.concat([df_existing, df_new], ignore_index=True)\n",
    "            df_all.to_csv(csv_file_path, index=False, encoding='utf-8-sig')\n",
    "            print(f\"'{csv_file_path}' に保存しました。\")\n",
    "        else:\n",
    "            print(\"\\n新しい論文は見つかりませんでした（既に登録済みの論文はスキップされます）。\")"
   ]
  },
  {
   "cell_type": "code",
   "execution_count": null,
   "id": "3cd11bb3-29a0-4fdd-aecd-2b2cf2b6da85",
   "metadata": {},
   "outputs": [],
   "source": []
  }
 ],
 "metadata": {
  "kernelspec": {
   "display_name": "Python 3 (ipykernel)",
   "language": "python",
   "name": "python3"
  },
  "language_info": {
   "codemirror_mode": {
    "name": "ipython",
    "version": 3
   },
   "file_extension": ".py",
   "mimetype": "text/x-python",
   "name": "python",
   "nbconvert_exporter": "python",
   "pygments_lexer": "ipython3",
   "version": "3.12.11"
  }
 },
 "nbformat": 4,
 "nbformat_minor": 5
}
